{
  "nbformat": 4,
  "nbformat_minor": 0,
  "metadata": {
    "colab": {
      "provenance": [],
      "include_colab_link": true
    },
    "kernelspec": {
      "name": "python3",
      "display_name": "Python 3"
    },
    "language_info": {
      "name": "python"
    }
  },
  "cells": [
    {
      "cell_type": "markdown",
      "metadata": {
        "id": "view-in-github",
        "colab_type": "text"
      },
      "source": [
        "<a href=\"https://colab.research.google.com/github/123danghi/ML_Internship_Task-JTEKT-/blob/main/FBmarketplace_dataANALYSIS.ipynb\" target=\"_parent\"><img src=\"https://colab.research.google.com/assets/colab-badge.svg\" alt=\"Open In Colab\"/></a>"
      ]
    },
    {
      "cell_type": "code",
      "execution_count": null,
      "metadata": {
        "colab": {
          "base_uri": "https://localhost:8080/",
          "height": 1000
        },
        "id": "DyO5FHKSGJWu",
        "outputId": "37ff71f6-eed2-419e-cae3-d4a06af296dd"
      },
      "outputs": [
        {
          "output_type": "stream",
          "name": "stdout",
          "text": [
            "Correlation Matrix:\n",
            "               num_reactions  num_comments  num_shares\n",
            "num_reactions       1.000000      0.150843    0.250723\n",
            "num_comments        0.150843      1.000000    0.640637\n",
            "num_shares          0.250723      0.640637    1.000000\n"
          ]
        },
        {
          "output_type": "stream",
          "name": "stderr",
          "text": [
            "/usr/local/lib/python3.10/dist-packages/sklearn/cluster/_kmeans.py:870: FutureWarning: The default value of `n_init` will change from 10 to 'auto' in 1.4. Set the value of `n_init` explicitly to suppress the warning\n",
            "  warnings.warn(\n"
          ]
        },
        {
          "output_type": "stream",
          "name": "stdout",
          "text": [
            "Cluster Centers:\n",
            "[[1.13000000e+02 1.08951003e+02 2.47901695e+01 1.03412350e+02\n",
            "  8.33551097e+00 5.78783637e-01 4.09706020e-01 1.82454503e-01\n",
            "  7.82392285e-02]\n",
            " [4.86737226e+02 5.30959124e+03 4.80408759e+02 3.76072993e+02\n",
            "  9.50729927e+01 4.80291971e+00 7.39416058e+00 2.51824818e+00\n",
            "  8.75912409e-01]\n",
            " [1.71315289e+03 3.17871901e+02 1.17700413e+02 1.65226033e+03\n",
            "  4.77747934e+01 9.73347107e+00 2.60950413e+00 4.13223140e-01\n",
            "  3.61570248e-01]]\n"
          ]
        },
        {
          "output_type": "stream",
          "name": "stderr",
          "text": [
            "/usr/local/lib/python3.10/dist-packages/sklearn/cluster/_kmeans.py:870: FutureWarning: The default value of `n_init` will change from 10 to 'auto' in 1.4. Set the value of `n_init` explicitly to suppress the warning\n",
            "  warnings.warn(\n",
            "/usr/local/lib/python3.10/dist-packages/sklearn/cluster/_kmeans.py:870: FutureWarning: The default value of `n_init` will change from 10 to 'auto' in 1.4. Set the value of `n_init` explicitly to suppress the warning\n",
            "  warnings.warn(\n",
            "/usr/local/lib/python3.10/dist-packages/sklearn/cluster/_kmeans.py:870: FutureWarning: The default value of `n_init` will change from 10 to 'auto' in 1.4. Set the value of `n_init` explicitly to suppress the warning\n",
            "  warnings.warn(\n",
            "/usr/local/lib/python3.10/dist-packages/sklearn/cluster/_kmeans.py:870: FutureWarning: The default value of `n_init` will change from 10 to 'auto' in 1.4. Set the value of `n_init` explicitly to suppress the warning\n",
            "  warnings.warn(\n",
            "/usr/local/lib/python3.10/dist-packages/sklearn/cluster/_kmeans.py:870: FutureWarning: The default value of `n_init` will change from 10 to 'auto' in 1.4. Set the value of `n_init` explicitly to suppress the warning\n",
            "  warnings.warn(\n",
            "/usr/local/lib/python3.10/dist-packages/sklearn/cluster/_kmeans.py:870: FutureWarning: The default value of `n_init` will change from 10 to 'auto' in 1.4. Set the value of `n_init` explicitly to suppress the warning\n",
            "  warnings.warn(\n",
            "/usr/local/lib/python3.10/dist-packages/sklearn/cluster/_kmeans.py:870: FutureWarning: The default value of `n_init` will change from 10 to 'auto' in 1.4. Set the value of `n_init` explicitly to suppress the warning\n",
            "  warnings.warn(\n",
            "/usr/local/lib/python3.10/dist-packages/sklearn/cluster/_kmeans.py:870: FutureWarning: The default value of `n_init` will change from 10 to 'auto' in 1.4. Set the value of `n_init` explicitly to suppress the warning\n",
            "  warnings.warn(\n",
            "/usr/local/lib/python3.10/dist-packages/sklearn/cluster/_kmeans.py:870: FutureWarning: The default value of `n_init` will change from 10 to 'auto' in 1.4. Set the value of `n_init` explicitly to suppress the warning\n",
            "  warnings.warn(\n",
            "/usr/local/lib/python3.10/dist-packages/sklearn/cluster/_kmeans.py:870: FutureWarning: The default value of `n_init` will change from 10 to 'auto' in 1.4. Set the value of `n_init` explicitly to suppress the warning\n",
            "  warnings.warn(\n"
          ]
        },
        {
          "output_type": "display_data",
          "data": {
            "text/plain": [
              "<Figure size 640x480 with 1 Axes>"
            ],
            "image/png": "[encoded data removed]"
          },
          "metadata": {}
        },
        {
          "output_type": "stream",
          "name": "stdout",
          "text": [
            "Count of Different Types of Posts:\n",
            "status_type\n",
            "photo     4288\n",
            "video     2334\n",
            "status     365\n",
            "link        63\n",
            "Name: count, dtype: int64\n",
            "Average Values for Each Post Type:\n",
            "             num_reactions  num_comments  num_shares\n",
            "status_type                                         \n",
            "link            370.142857      5.698413    4.396825\n",
            "photo           181.290345     15.993470    2.553871\n",
            "status          438.783562     36.238356    2.558904\n",
            "video           283.409597    642.478149  115.679949\n"
          ]
        }
      ],
      "source": [
        "import pandas as pd\n",
        "import numpy as np\n",
        "from sklearn.cluster import KMeans\n",
        "import matplotlib.pyplot as plt\n",
        "\n",
        "# Load the dataset\n",
        "data = pd.read_csv(\"/content/sample_data/Facebook_Marketplace_data.csv\")\n",
        "\n",
        "# Task 1 & 2: Correlation Analysis\n",
        "correlation_matrix = data[['num_reactions', 'num_comments', 'num_shares']].corr()\n",
        "print(\"Correlation Matrix:\")\n",
        "print(correlation_matrix)\n",
        "\n",
        "# Task 3: K-Means Clustering\n",
        "X = data[['num_reactions', 'num_comments', 'num_shares', 'num_likes', 'num_loves', 'num_wows', 'num_hahas', 'num_sads', 'num_angrys']]\n",
        "kmeans = KMeans(n_clusters=3, random_state=42)  # you can adjust the number of clusters\n",
        "kmeans.fit(X)\n",
        "data['cluster'] = kmeans.labels_\n",
        "print(\"Cluster Centers:\")\n",
        "print(kmeans.cluster_centers_)\n",
        "\n",
        "# Task 4: Elbow Method\n",
        "inertia = []\n",
        "for k in range(1, 11):\n",
        "    kmeans = KMeans(n_clusters=k, random_state=42)\n",
        "    kmeans.fit(X)\n",
        "    inertia.append(kmeans.inertia_)\n",
        "\n",
        "plt.plot(range(1, 11), inertia)\n",
        "plt.xlabel('Number of clusters')\n",
        "plt.ylabel('Inertia')\n",
        "plt.title('Elbow Method')\n",
        "plt.show()\n",
        "\n",
        "# Task 5: Count of different types of posts\n",
        "post_counts = data['status_type'].value_counts()\n",
        "print(\"Count of Different Types of Posts:\")\n",
        "print(post_counts)\n",
        "\n",
        "# Task 6: Average values for each post type\n",
        "avg_values = data.groupby('status_type').agg({'num_reactions': 'mean', 'num_comments': 'mean', 'num_shares': 'mean'})\n",
        "print(\"Average Values for Each Post Type:\")\n",
        "print(avg_values)\n"
      ]
    }
  ]
}